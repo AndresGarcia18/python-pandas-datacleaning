{
 "cells": [
  {
   "cell_type": "markdown",
   "metadata": {},
   "source": [
    "# Training Python, Pandas and Data Cleaning\n",
    "\n",
    "Import data_cleaning which is the file that contains the functions for each challenge."
   ]
  },
  {
   "cell_type": "code",
   "execution_count": 1,
   "metadata": {},
   "outputs": [],
   "source": [
    "import data_cleaning"
   ]
  },
  {
   "cell_type": "markdown",
   "metadata": {},
   "source": [
    "## Challenge 1: Reverse a String\n",
    "* Write a function to reverse a given string without using built-in functions like reversed().\n",
    "* Expected function: my_reversed(word: str -> str].\n",
    "* Hint: Explore how negative indexing works in Python"
   ]
  },
  {
   "cell_type": "code",
   "execution_count": 2,
   "metadata": {},
   "outputs": [
    {
     "name": "stdout",
     "output_type": "stream",
     "text": [
      "Reversed word: !olleH\n"
     ]
    }
   ],
   "source": [
    "word = input(f\"Write your word: \")\n",
    "print(f\"Reversed word: {data_cleaning.my_reversed(word)}\")"
   ]
  },
  {
   "cell_type": "markdown",
   "metadata": {},
   "source": [
    "## Challenge 2: Count Vowels and Consonants\n",
    "* Write a function that counts the number of vowels and consonants in a string (ignoring non alphabetic characters.)\n",
    "* Expected function: how_many(word: str -> tuple(vowels: int, consonants: int)."
   ]
  },
  {
   "cell_type": "code",
   "execution_count": 3,
   "metadata": {},
   "outputs": [
    {
     "name": "stdout",
     "output_type": "stream",
     "text": [
      "('Vowels', 4, 'Consonants', 6)\n"
     ]
    }
   ],
   "source": [
    "sentence = input(\"Write your sentence: \")\n",
    "print(data_cleaning.how_many(sentence))"
   ]
  },
  {
   "cell_type": "markdown",
   "metadata": {},
   "source": [
    "## Challenge 3: Palindrome Check\n",
    "* Write a function to check if a string is a palindrome ignoring non alpha-numeric characters (Return True if it is, False if it isn't).\n",
    "* Expected function: palindrome(possible_palindrome: str -> bool."
   ]
  },
  {
   "cell_type": "code",
   "execution_count": 4,
   "metadata": {},
   "outputs": [
    {
     "name": "stdout",
     "output_type": "stream",
     "text": [
      "Is: True\n"
     ]
    }
   ],
   "source": [
    "palindrome = input(\"Write your sentence: \")\n",
    "print(f\"Is: {data_cleaning.palindrome(palindrome)}\")"
   ]
  },
  {
   "cell_type": "markdown",
   "metadata": {},
   "source": [
    "## Challenge 4: Format Phone Number\n",
    "* Write a function that given numbers like these 0-547-554-113 ext 4 can:\n",
    "    * i. Separate the extension from the phone number, eliminating any leading or trailing spaces.\n",
    "    * ii. According to a parameter country, add the country phone code to the phone number. Note that numbers must not begin with zero before applying the country code. Assume the only countries possible are \"Colombia\" and \"Brazil\".\n",
    "    * iii. Arrange the resulting number as follows: (+XXX) XXXX XXXXXX\n",
    "* Expected function: format_phone(phone_number: str, country: str) -> tuple(phone: str, ext: str)].\n",
    "* Example: If the country is \"Colombia\", and the phone number is \"0-080-456-730 ext 88 \", then, the resulting tuple should be: (\"(+57) 8045 6730\", \"ext 88\")."
   ]
  },
  {
   "cell_type": "code",
   "execution_count": 5,
   "metadata": {},
   "outputs": [
    {
     "name": "stdout",
     "output_type": "stream",
     "text": [
      "('+(57)8045 6730', 'ext 88')\n"
     ]
    }
   ],
   "source": [
    "phone = input(\"Write your phone number: \")\n",
    "country = input(\"Write your country: \")\n",
    "print(data_cleaning.format_phone(phone, country))"
   ]
  }
 ],
 "metadata": {
  "kernelspec": {
   "display_name": "Python 3",
   "language": "python",
   "name": "python3"
  },
  "language_info": {
   "codemirror_mode": {
    "name": "ipython",
    "version": 3
   },
   "file_extension": ".py",
   "mimetype": "text/x-python",
   "name": "python",
   "nbconvert_exporter": "python",
   "pygments_lexer": "ipython3",
   "version": "3.13.5"
  }
 },
 "nbformat": 4,
 "nbformat_minor": 2
}
